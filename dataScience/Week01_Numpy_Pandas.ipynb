{
 "cells": [
  {
   "cell_type": "markdown",
   "metadata": {},
   "source": [
    "#Author: Barnabas Makonda <barnabasmakonda@gmail.com>\n",
    "#dataset: Us election results by country"
   ]
  },
  {
   "cell_type": "markdown",
   "metadata": {},
   "source": [
    "## Numpy, Pandas Practice\n",
    "\n",
    "    This is the first plactice session of many that I will try to explain what I am up to in practising and learning datascience."
   ]
  },
  {
   "cell_type": "code",
   "execution_count": 1,
   "metadata": {
    "collapsed": true
   },
   "outputs": [],
   "source": [
    "#firts import pandas and numpy\n",
    "import pandas as pd\n",
    "import numpy as np"
   ]
  },
  {
   "cell_type": "code",
   "execution_count": 77,
   "metadata": {
    "collapsed": false
   },
   "outputs": [
    {
     "data": {
      "text/html": [
       "<div>\n",
       "<table border=\"1\" class=\"dataframe\">\n",
       "  <thead>\n",
       "    <tr style=\"text-align: right;\">\n",
       "      <th></th>\n",
       "      <th>StateCode</th>\n",
       "      <th>StateName</th>\n",
       "      <th>CountyFips</th>\n",
       "      <th>CountyName</th>\n",
       "      <th>CountyTotalVote</th>\n",
       "      <th>Party</th>\n",
       "      <th>Candidate</th>\n",
       "      <th>VoteCount</th>\n",
       "    </tr>\n",
       "  </thead>\n",
       "  <tbody>\n",
       "    <tr>\n",
       "      <th>0</th>\n",
       "      <td>AK</td>\n",
       "      <td>alaska</td>\n",
       "      <td>2000</td>\n",
       "      <td>Alaska</td>\n",
       "      <td>246588</td>\n",
       "      <td>GOP</td>\n",
       "      <td>Trump</td>\n",
       "      <td>130415.0</td>\n",
       "    </tr>\n",
       "    <tr>\n",
       "      <th>1</th>\n",
       "      <td>AL</td>\n",
       "      <td>alabama</td>\n",
       "      <td>1087</td>\n",
       "      <td>Macon</td>\n",
       "      <td>8748</td>\n",
       "      <td>GOP</td>\n",
       "      <td>Trump</td>\n",
       "      <td>1394.0</td>\n",
       "    </tr>\n",
       "    <tr>\n",
       "      <th>2</th>\n",
       "      <td>AL</td>\n",
       "      <td>alabama</td>\n",
       "      <td>1131</td>\n",
       "      <td>Wilcox</td>\n",
       "      <td>6095</td>\n",
       "      <td>GOP</td>\n",
       "      <td>Trump</td>\n",
       "      <td>1737.0</td>\n",
       "    </tr>\n",
       "    <tr>\n",
       "      <th>3</th>\n",
       "      <td>AL</td>\n",
       "      <td>alabama</td>\n",
       "      <td>1037</td>\n",
       "      <td>Coosa</td>\n",
       "      <td>5223</td>\n",
       "      <td>GOP</td>\n",
       "      <td>Trump</td>\n",
       "      <td>3376.0</td>\n",
       "    </tr>\n",
       "    <tr>\n",
       "      <th>4</th>\n",
       "      <td>AL</td>\n",
       "      <td>alabama</td>\n",
       "      <td>1009</td>\n",
       "      <td>Blount</td>\n",
       "      <td>25384</td>\n",
       "      <td>GOP</td>\n",
       "      <td>Trump</td>\n",
       "      <td>22808.0</td>\n",
       "    </tr>\n",
       "  </tbody>\n",
       "</table>\n",
       "</div>"
      ],
      "text/plain": [
       "  StateCode StateName  CountyFips CountyName  CountyTotalVote Party Candidate  \\\n",
       "0        AK    alaska        2000     Alaska           246588   GOP     Trump   \n",
       "1        AL   alabama        1087      Macon             8748   GOP     Trump   \n",
       "2        AL   alabama        1131     Wilcox             6095   GOP     Trump   \n",
       "3        AL   alabama        1037      Coosa             5223   GOP     Trump   \n",
       "4        AL   alabama        1009     Blount            25384   GOP     Trump   \n",
       "\n",
       "   VoteCount  \n",
       "0   130415.0  \n",
       "1     1394.0  \n",
       "2     1737.0  \n",
       "3     3376.0  \n",
       "4    22808.0  "
      ]
     },
     "execution_count": 77,
     "metadata": {},
     "output_type": "execute_result"
    }
   ],
   "source": [
    "#lets read the csv file to see what we have got.\n",
    "df = pd.read_csv('us-election-2016-results-by-county.csv')\n",
    "\n",
    "#print the first five\n",
    "df.head()"
   ]
  },
  {
   "cell_type": "code",
   "execution_count": 78,
   "metadata": {
    "collapsed": false
   },
   "outputs": [
    {
     "data": {
      "text/plain": [
       "pandas.core.frame.DataFrame"
      ]
     },
     "execution_count": 78,
     "metadata": {},
     "output_type": "execute_result"
    }
   ],
   "source": [
    "type(df)"
   ]
  },
  {
   "cell_type": "code",
   "execution_count": 79,
   "metadata": {
    "collapsed": false
   },
   "outputs": [
    {
     "data": {
      "text/plain": [
       "Index([u'StateCode', u'StateName', u'CountyFips', u'CountyName',\n",
       "       u'CountyTotalVote', u'Party', u'Candidate', u'VoteCount'],\n",
       "      dtype='object')"
      ]
     },
     "execution_count": 79,
     "metadata": {},
     "output_type": "execute_result"
    }
   ],
   "source": [
    "df.columns"
   ]
  },
  {
   "cell_type": "code",
   "execution_count": 80,
   "metadata": {
    "collapsed": false
   },
   "outputs": [
    {
     "data": {
      "text/html": [
       "<div>\n",
       "<table border=\"1\" class=\"dataframe\">\n",
       "  <thead>\n",
       "    <tr style=\"text-align: right;\">\n",
       "      <th></th>\n",
       "      <th>StateCode</th>\n",
       "      <th>StateName</th>\n",
       "      <th>CountyFips</th>\n",
       "      <th>CountyName</th>\n",
       "      <th>CountyTotalVote</th>\n",
       "      <th>Party</th>\n",
       "      <th>Candidate</th>\n",
       "      <th>VoteCount</th>\n",
       "      <th>Percentage</th>\n",
       "    </tr>\n",
       "  </thead>\n",
       "  <tbody>\n",
       "    <tr>\n",
       "      <th>0</th>\n",
       "      <td>AK</td>\n",
       "      <td>alaska</td>\n",
       "      <td>2000</td>\n",
       "      <td>Alaska</td>\n",
       "      <td>246588</td>\n",
       "      <td>GOP</td>\n",
       "      <td>Trump</td>\n",
       "      <td>130415.0</td>\n",
       "      <td>52.887813</td>\n",
       "    </tr>\n",
       "    <tr>\n",
       "      <th>1</th>\n",
       "      <td>AL</td>\n",
       "      <td>alabama</td>\n",
       "      <td>1087</td>\n",
       "      <td>Macon</td>\n",
       "      <td>8748</td>\n",
       "      <td>GOP</td>\n",
       "      <td>Trump</td>\n",
       "      <td>1394.0</td>\n",
       "      <td>15.935071</td>\n",
       "    </tr>\n",
       "    <tr>\n",
       "      <th>2</th>\n",
       "      <td>AL</td>\n",
       "      <td>alabama</td>\n",
       "      <td>1131</td>\n",
       "      <td>Wilcox</td>\n",
       "      <td>6095</td>\n",
       "      <td>GOP</td>\n",
       "      <td>Trump</td>\n",
       "      <td>1737.0</td>\n",
       "      <td>28.498769</td>\n",
       "    </tr>\n",
       "    <tr>\n",
       "      <th>3</th>\n",
       "      <td>AL</td>\n",
       "      <td>alabama</td>\n",
       "      <td>1037</td>\n",
       "      <td>Coosa</td>\n",
       "      <td>5223</td>\n",
       "      <td>GOP</td>\n",
       "      <td>Trump</td>\n",
       "      <td>3376.0</td>\n",
       "      <td>64.637182</td>\n",
       "    </tr>\n",
       "    <tr>\n",
       "      <th>4</th>\n",
       "      <td>AL</td>\n",
       "      <td>alabama</td>\n",
       "      <td>1009</td>\n",
       "      <td>Blount</td>\n",
       "      <td>25384</td>\n",
       "      <td>GOP</td>\n",
       "      <td>Trump</td>\n",
       "      <td>22808.0</td>\n",
       "      <td>89.851875</td>\n",
       "    </tr>\n",
       "  </tbody>\n",
       "</table>\n",
       "</div>"
      ],
      "text/plain": [
       "  StateCode StateName  CountyFips CountyName  CountyTotalVote Party Candidate  \\\n",
       "0        AK    alaska        2000     Alaska           246588   GOP     Trump   \n",
       "1        AL   alabama        1087      Macon             8748   GOP     Trump   \n",
       "2        AL   alabama        1131     Wilcox             6095   GOP     Trump   \n",
       "3        AL   alabama        1037      Coosa             5223   GOP     Trump   \n",
       "4        AL   alabama        1009     Blount            25384   GOP     Trump   \n",
       "\n",
       "   VoteCount  Percentage  \n",
       "0   130415.0   52.887813  \n",
       "1     1394.0   15.935071  \n",
       "2     1737.0   28.498769  \n",
       "3     3376.0   64.637182  \n",
       "4    22808.0   89.851875  "
      ]
     },
     "execution_count": 80,
     "metadata": {},
     "output_type": "execute_result"
    }
   ],
   "source": [
    "#lets add another column which shows a percentage\n",
    "\n",
    "df['Percentage'] = df['VoteCount']/df['CountyTotalVote'] * 100\n",
    "df.head()\n"
   ]
  },
  {
   "cell_type": "code",
   "execution_count": 81,
   "metadata": {
    "collapsed": false
   },
   "outputs": [
    {
     "data": {
      "text/html": [
       "<div>\n",
       "<table border=\"1\" class=\"dataframe\">\n",
       "  <thead>\n",
       "    <tr style=\"text-align: right;\">\n",
       "      <th></th>\n",
       "      <th>StateCode</th>\n",
       "      <th>StateName</th>\n",
       "      <th>CountyFips</th>\n",
       "      <th>CountyName</th>\n",
       "      <th>CountyTotalVote</th>\n",
       "      <th>Party</th>\n",
       "      <th>Candidate</th>\n",
       "      <th>VoteCount</th>\n",
       "      <th>Percentage</th>\n",
       "    </tr>\n",
       "  </thead>\n",
       "  <tbody>\n",
       "    <tr>\n",
       "      <th>2690</th>\n",
       "      <td>TX</td>\n",
       "      <td>texas</td>\n",
       "      <td>48393</td>\n",
       "      <td>Roberts</td>\n",
       "      <td>550</td>\n",
       "      <td>GOP</td>\n",
       "      <td>Trump</td>\n",
       "      <td>524.0</td>\n",
       "      <td>95.272727</td>\n",
       "    </tr>\n",
       "  </tbody>\n",
       "</table>\n",
       "</div>"
      ],
      "text/plain": [
       "     StateCode StateName  CountyFips CountyName  CountyTotalVote Party  \\\n",
       "2690        TX     texas       48393    Roberts              550   GOP   \n",
       "\n",
       "     Candidate  VoteCount  Percentage  \n",
       "2690     Trump      524.0   95.272727  "
      ]
     },
     "execution_count": 81,
     "metadata": {},
     "output_type": "execute_result"
    }
   ],
   "source": [
    "#lets see the highest win for any candidate\n",
    "\n",
    "MaxWin = df[df['Percentage'] == np.max(df['Percentage'])]\n",
    "MaxWin"
   ]
  },
  {
   "cell_type": "code",
   "execution_count": 82,
   "metadata": {
    "collapsed": false
   },
   "outputs": [
    {
     "name": "stdout",
     "output_type": "stream",
     "text": [
      "['Trump' 'Clinton' 'Stein' 'Johnson' 'Castle']\n",
      "['GOP' 'DEM' 'GRN' 'LIB' 'CST']\n"
     ]
    }
   ],
   "source": [
    "#lets see how many candidate and part do we have\n",
    "print(df['Candidate'].unique())\n",
    "print(df['Party'].unique())"
   ]
  },
  {
   "cell_type": "code",
   "execution_count": 83,
   "metadata": {
    "collapsed": false
   },
   "outputs": [
    {
     "data": {
      "text/html": [
       "<div>\n",
       "<table border=\"1\" class=\"dataframe\">\n",
       "  <thead>\n",
       "    <tr style=\"text-align: right;\">\n",
       "      <th></th>\n",
       "      <th>StateCode</th>\n",
       "      <th>StateName</th>\n",
       "      <th>CountyFips</th>\n",
       "      <th>CountyName</th>\n",
       "      <th>CountyTotalVote</th>\n",
       "      <th>Party</th>\n",
       "      <th>Candidate</th>\n",
       "      <th>VoteCount</th>\n",
       "      <th>Percentage</th>\n",
       "    </tr>\n",
       "  </thead>\n",
       "  <tbody>\n",
       "    <tr>\n",
       "      <th>7747</th>\n",
       "      <td>MS</td>\n",
       "      <td>mississippi</td>\n",
       "      <td>28069</td>\n",
       "      <td>Kemper</td>\n",
       "      <td>4639</td>\n",
       "      <td>GRN</td>\n",
       "      <td>Stein</td>\n",
       "      <td>1.0</td>\n",
       "      <td>0.021556</td>\n",
       "    </tr>\n",
       "  </tbody>\n",
       "</table>\n",
       "</div>"
      ],
      "text/plain": [
       "     StateCode    StateName  CountyFips CountyName  CountyTotalVote Party  \\\n",
       "7747        MS  mississippi       28069     Kemper             4639   GRN   \n",
       "\n",
       "     Candidate  VoteCount  Percentage  \n",
       "7747     Stein        1.0    0.021556  "
      ]
     },
     "execution_count": 83,
     "metadata": {},
     "output_type": "execute_result"
    }
   ],
   "source": [
    "#lets see who got less number of vote in a country of all\n",
    "MinWin = df[df['Percentage'] == np.min(df['Percentage'])]\n",
    "MinWin"
   ]
  },
  {
   "cell_type": "code",
   "execution_count": 84,
   "metadata": {
    "collapsed": false
   },
   "outputs": [
    {
     "name": "stdout",
     "output_type": "stream",
     "text": [
      "2940\n"
     ]
    },
    {
     "data": {
      "text/html": [
       "<div>\n",
       "<table border=\"1\" class=\"dataframe\">\n",
       "  <thead>\n",
       "    <tr style=\"text-align: right;\">\n",
       "      <th></th>\n",
       "      <th>StateCode</th>\n",
       "      <th>StateName</th>\n",
       "      <th>CountyFips</th>\n",
       "      <th>CountyName</th>\n",
       "      <th>CountyTotalVote</th>\n",
       "      <th>Party</th>\n",
       "      <th>Candidate</th>\n",
       "      <th>VoteCount</th>\n",
       "      <th>Percentage</th>\n",
       "    </tr>\n",
       "  </thead>\n",
       "  <tbody>\n",
       "    <tr>\n",
       "      <th>0</th>\n",
       "      <td>AK</td>\n",
       "      <td>alaska</td>\n",
       "      <td>2000</td>\n",
       "      <td>Alaska</td>\n",
       "      <td>246588</td>\n",
       "      <td>GOP</td>\n",
       "      <td>Trump</td>\n",
       "      <td>130415.0</td>\n",
       "      <td>52.887813</td>\n",
       "    </tr>\n",
       "    <tr>\n",
       "      <th>3</th>\n",
       "      <td>AL</td>\n",
       "      <td>alabama</td>\n",
       "      <td>1037</td>\n",
       "      <td>Coosa</td>\n",
       "      <td>5223</td>\n",
       "      <td>GOP</td>\n",
       "      <td>Trump</td>\n",
       "      <td>3376.0</td>\n",
       "      <td>64.637182</td>\n",
       "    </tr>\n",
       "    <tr>\n",
       "      <th>4</th>\n",
       "      <td>AL</td>\n",
       "      <td>alabama</td>\n",
       "      <td>1009</td>\n",
       "      <td>Blount</td>\n",
       "      <td>25384</td>\n",
       "      <td>GOP</td>\n",
       "      <td>Trump</td>\n",
       "      <td>22808.0</td>\n",
       "      <td>89.851875</td>\n",
       "    </tr>\n",
       "    <tr>\n",
       "      <th>5</th>\n",
       "      <td>AL</td>\n",
       "      <td>alabama</td>\n",
       "      <td>1133</td>\n",
       "      <td>Winston</td>\n",
       "      <td>10255</td>\n",
       "      <td>GOP</td>\n",
       "      <td>Trump</td>\n",
       "      <td>9225.0</td>\n",
       "      <td>89.956119</td>\n",
       "    </tr>\n",
       "    <tr>\n",
       "      <th>6</th>\n",
       "      <td>AL</td>\n",
       "      <td>alabama</td>\n",
       "      <td>1123</td>\n",
       "      <td>Tallapoosa</td>\n",
       "      <td>18504</td>\n",
       "      <td>GOP</td>\n",
       "      <td>Trump</td>\n",
       "      <td>12967.0</td>\n",
       "      <td>70.076740</td>\n",
       "    </tr>\n",
       "  </tbody>\n",
       "</table>\n",
       "</div>"
      ],
      "text/plain": [
       "  StateCode StateName  CountyFips  CountyName  CountyTotalVote Party  \\\n",
       "0        AK    alaska        2000      Alaska           246588   GOP   \n",
       "3        AL   alabama        1037       Coosa             5223   GOP   \n",
       "4        AL   alabama        1009      Blount            25384   GOP   \n",
       "5        AL   alabama        1133     Winston            10255   GOP   \n",
       "6        AL   alabama        1123  Tallapoosa            18504   GOP   \n",
       "\n",
       "  Candidate  VoteCount  Percentage  \n",
       "0     Trump   130415.0   52.887813  \n",
       "3     Trump     3376.0   64.637182  \n",
       "4     Trump    22808.0   89.851875  \n",
       "5     Trump     9225.0   89.956119  \n",
       "6     Trump    12967.0   70.076740  "
      ]
     },
     "execution_count": 84,
     "metadata": {},
     "output_type": "execute_result"
    }
   ],
   "source": [
    "#lets see the countries where candidates got over 50% votes\n",
    "greater_than_50 = df[df['Percentage'] > 50]\n",
    "\n",
    "#print length of those countries\n",
    "print(len(greater_than_50))\n",
    "\n",
    "#sample\n",
    "greater_than_50.head()\n"
   ]
  },
  {
   "cell_type": "code",
   "execution_count": 85,
   "metadata": {
    "collapsed": false
   },
   "outputs": [
    {
     "data": {
      "text/html": [
       "<div>\n",
       "<table border=\"1\" class=\"dataframe\">\n",
       "  <thead>\n",
       "    <tr style=\"text-align: right;\">\n",
       "      <th></th>\n",
       "      <th></th>\n",
       "      <th>StateName</th>\n",
       "      <th>CountyFips</th>\n",
       "      <th>CountyTotalVote</th>\n",
       "      <th>Party</th>\n",
       "      <th>Candidate</th>\n",
       "      <th>VoteCount</th>\n",
       "      <th>Percentage</th>\n",
       "    </tr>\n",
       "    <tr>\n",
       "      <th>StateCode</th>\n",
       "      <th>CountyName</th>\n",
       "      <th></th>\n",
       "      <th></th>\n",
       "      <th></th>\n",
       "      <th></th>\n",
       "      <th></th>\n",
       "      <th></th>\n",
       "      <th></th>\n",
       "    </tr>\n",
       "  </thead>\n",
       "  <tbody>\n",
       "    <tr>\n",
       "      <th>AK</th>\n",
       "      <th>Alaska</th>\n",
       "      <td>alaska</td>\n",
       "      <td>2000</td>\n",
       "      <td>246588</td>\n",
       "      <td>GOP</td>\n",
       "      <td>Trump</td>\n",
       "      <td>130415.0</td>\n",
       "      <td>52.887813</td>\n",
       "    </tr>\n",
       "    <tr>\n",
       "      <th rowspan=\"4\" valign=\"top\">AL</th>\n",
       "      <th>Macon</th>\n",
       "      <td>alabama</td>\n",
       "      <td>1087</td>\n",
       "      <td>8748</td>\n",
       "      <td>GOP</td>\n",
       "      <td>Trump</td>\n",
       "      <td>1394.0</td>\n",
       "      <td>15.935071</td>\n",
       "    </tr>\n",
       "    <tr>\n",
       "      <th>Wilcox</th>\n",
       "      <td>alabama</td>\n",
       "      <td>1131</td>\n",
       "      <td>6095</td>\n",
       "      <td>GOP</td>\n",
       "      <td>Trump</td>\n",
       "      <td>1737.0</td>\n",
       "      <td>28.498769</td>\n",
       "    </tr>\n",
       "    <tr>\n",
       "      <th>Coosa</th>\n",
       "      <td>alabama</td>\n",
       "      <td>1037</td>\n",
       "      <td>5223</td>\n",
       "      <td>GOP</td>\n",
       "      <td>Trump</td>\n",
       "      <td>3376.0</td>\n",
       "      <td>64.637182</td>\n",
       "    </tr>\n",
       "    <tr>\n",
       "      <th>Blount</th>\n",
       "      <td>alabama</td>\n",
       "      <td>1009</td>\n",
       "      <td>25384</td>\n",
       "      <td>GOP</td>\n",
       "      <td>Trump</td>\n",
       "      <td>22808.0</td>\n",
       "      <td>89.851875</td>\n",
       "    </tr>\n",
       "  </tbody>\n",
       "</table>\n",
       "</div>"
      ],
      "text/plain": [
       "                     StateName  CountyFips  CountyTotalVote Party Candidate  \\\n",
       "StateCode CountyName                                                          \n",
       "AK        Alaska        alaska        2000           246588   GOP     Trump   \n",
       "AL        Macon        alabama        1087             8748   GOP     Trump   \n",
       "          Wilcox       alabama        1131             6095   GOP     Trump   \n",
       "          Coosa        alabama        1037             5223   GOP     Trump   \n",
       "          Blount       alabama        1009            25384   GOP     Trump   \n",
       "\n",
       "                      VoteCount  Percentage  \n",
       "StateCode CountyName                         \n",
       "AK        Alaska       130415.0   52.887813  \n",
       "AL        Macon          1394.0   15.935071  \n",
       "          Wilcox         1737.0   28.498769  \n",
       "          Coosa          3376.0   64.637182  \n",
       "          Blount        22808.0   89.851875  "
      ]
     },
     "execution_count": 85,
     "metadata": {},
     "output_type": "execute_result"
    }
   ],
   "source": [
    "#index with stateCode and countName \n",
    "df = df.set_index(['StateCode', 'CountyName'])\n",
    "df.head()"
   ]
  },
  {
   "cell_type": "code",
   "execution_count": 86,
   "metadata": {
    "collapsed": false
   },
   "outputs": [
    {
     "name": "stderr",
     "output_type": "stream",
     "text": [
      "/Users/barnie/anaconda2/lib/python2.7/site-packages/ipykernel/__main__.py:2: PerformanceWarning: indexing past lexsort depth may impact performance.\n",
      "  from ipykernel import kernelapp as app\n"
     ]
    },
    {
     "data": {
      "text/html": [
       "<div>\n",
       "<table border=\"1\" class=\"dataframe\">\n",
       "  <thead>\n",
       "    <tr style=\"text-align: right;\">\n",
       "      <th></th>\n",
       "      <th></th>\n",
       "      <th>StateName</th>\n",
       "      <th>CountyFips</th>\n",
       "      <th>CountyTotalVote</th>\n",
       "      <th>Party</th>\n",
       "      <th>Candidate</th>\n",
       "      <th>VoteCount</th>\n",
       "      <th>Percentage</th>\n",
       "    </tr>\n",
       "    <tr>\n",
       "      <th>StateCode</th>\n",
       "      <th>CountyName</th>\n",
       "      <th></th>\n",
       "      <th></th>\n",
       "      <th></th>\n",
       "      <th></th>\n",
       "      <th></th>\n",
       "      <th></th>\n",
       "      <th></th>\n",
       "    </tr>\n",
       "  </thead>\n",
       "  <tbody>\n",
       "    <tr>\n",
       "      <th rowspan=\"5\" valign=\"top\">AL</th>\n",
       "      <th>Wilcox</th>\n",
       "      <td>alabama</td>\n",
       "      <td>1131</td>\n",
       "      <td>6095</td>\n",
       "      <td>GOP</td>\n",
       "      <td>Trump</td>\n",
       "      <td>1737.0</td>\n",
       "      <td>28.498769</td>\n",
       "    </tr>\n",
       "    <tr>\n",
       "      <th>Wilcox</th>\n",
       "      <td>alabama</td>\n",
       "      <td>1131</td>\n",
       "      <td>6095</td>\n",
       "      <td>DEM</td>\n",
       "      <td>Clinton</td>\n",
       "      <td>4329.0</td>\n",
       "      <td>71.025431</td>\n",
       "    </tr>\n",
       "    <tr>\n",
       "      <th>Wilcox</th>\n",
       "      <td>alabama</td>\n",
       "      <td>1131</td>\n",
       "      <td>6095</td>\n",
       "      <td>GRN</td>\n",
       "      <td>Stein</td>\n",
       "      <td>7.0</td>\n",
       "      <td>0.114848</td>\n",
       "    </tr>\n",
       "    <tr>\n",
       "      <th>Wilcox</th>\n",
       "      <td>alabama</td>\n",
       "      <td>1131</td>\n",
       "      <td>6095</td>\n",
       "      <td>LIB</td>\n",
       "      <td>Johnson</td>\n",
       "      <td>22.0</td>\n",
       "      <td>0.360952</td>\n",
       "    </tr>\n",
       "    <tr>\n",
       "      <th>Wilcox</th>\n",
       "      <td>alabama</td>\n",
       "      <td>1131</td>\n",
       "      <td>6095</td>\n",
       "      <td>CST</td>\n",
       "      <td>Castle</td>\n",
       "      <td>NaN</td>\n",
       "      <td>NaN</td>\n",
       "    </tr>\n",
       "  </tbody>\n",
       "</table>\n",
       "</div>"
      ],
      "text/plain": [
       "                     StateName  CountyFips  CountyTotalVote Party Candidate  \\\n",
       "StateCode CountyName                                                          \n",
       "AL        Wilcox       alabama        1131             6095   GOP     Trump   \n",
       "          Wilcox       alabama        1131             6095   DEM   Clinton   \n",
       "          Wilcox       alabama        1131             6095   GRN     Stein   \n",
       "          Wilcox       alabama        1131             6095   LIB   Johnson   \n",
       "          Wilcox       alabama        1131             6095   CST    Castle   \n",
       "\n",
       "                      VoteCount  Percentage  \n",
       "StateCode CountyName                         \n",
       "AL        Wilcox         1737.0   28.498769  \n",
       "          Wilcox         4329.0   71.025431  \n",
       "          Wilcox            7.0    0.114848  \n",
       "          Wilcox           22.0    0.360952  \n",
       "          Wilcox            NaN         NaN  "
      ]
     },
     "execution_count": 86,
     "metadata": {},
     "output_type": "execute_result"
    }
   ],
   "source": [
    "#if I want data from countName wilcox in Alabama\n",
    "df.loc['AL', 'Wilcox']"
   ]
  },
  {
   "cell_type": "code",
   "execution_count": null,
   "metadata": {
    "collapsed": true
   },
   "outputs": [],
   "source": []
  }
 ],
 "metadata": {
  "anaconda-cloud": {},
  "kernelspec": {
   "display_name": "Python [conda root]",
   "language": "python",
   "name": "conda-root-py"
  },
  "language_info": {
   "codemirror_mode": {
    "name": "ipython",
    "version": 2
   },
   "file_extension": ".py",
   "mimetype": "text/x-python",
   "name": "python",
   "nbconvert_exporter": "python",
   "pygments_lexer": "ipython2",
   "version": "2.7.12"
  }
 },
 "nbformat": 4,
 "nbformat_minor": 1
}
